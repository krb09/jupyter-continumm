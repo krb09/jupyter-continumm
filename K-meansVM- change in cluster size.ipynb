{
 "cells": [
  {
   "cell_type": "code",
   "execution_count": null,
   "metadata": {},
   "outputs": [],
   "source": [
    "# libraries to import K-means for scikit learn\n",
    "from pandas import DataFrame\n",
    "from sklearn.cluster import KMeans\n",
    "import random\n",
    "import numpy as np\n",
    "import time\n",
    "import sys"
   ]
  },
  {
   "cell_type": "code",
   "execution_count": null,
   "metadata": {},
   "outputs": [],
   "source": [
    "#function to generate data sets for K-means clustering\n",
    "def get_random_cluster_points(number_points, number_dim):\n",
    "    mu = np.random.randn()\n",
    "    sigma = np.random.randn()\n",
    "    p = sigma * np.random.randn(number_points, number_dim) + mu\n",
    "    return p"
   ]
  },
  {
   "cell_type": "code",
   "execution_count": null,
   "metadata": {},
   "outputs": [],
   "source": [
    "#parameters to define the datavolume and number of clusters\n",
    "number_of_data_points= 32\n",
    "number_of_clusters=[3,5,10,25]\n",
    "time_avg = []\n",
    "iter = 0"
   ]
  },
  {
   "cell_type": "code",
   "execution_count": null,
   "metadata": {},
   "outputs": [],
   "source": [
    "#run k-means\n",
    "p = get_random_cluster_points(number_of_data_points, 2)\n",
    "for i in number_of_clusters:\n",
    "    t1 = time.time()\n",
    "    kmeans = KMeans(n_clusters=number_of_clusters,n_jobs=1,tol=-0).fit(p)\n",
    "    centroids = kmeans.cluster_centers_\n",
    "    t2 = time.time()\n",
    "    time_avg[iter++] = t2-t1"
   ]
  },
  {
   "cell_type": "code",
   "execution_count": null,
   "metadata": {},
   "outputs": [],
   "source": [
    "#time to execute kmeans\n",
    "\n",
    "print('time_total:' + str(time_avg))"
   ]
  }
 ],
 "metadata": {
  "kernelspec": {
   "display_name": "Python 3",
   "language": "python",
   "name": "python3"
  },
  "language_info": {
   "codemirror_mode": {
    "name": "ipython",
    "version": 3
   },
   "file_extension": ".py",
   "mimetype": "text/x-python",
   "name": "python",
   "nbconvert_exporter": "python",
   "pygments_lexer": "ipython3",
   "version": "3.5.2"
  }
 },
 "nbformat": 4,
 "nbformat_minor": 4
}
