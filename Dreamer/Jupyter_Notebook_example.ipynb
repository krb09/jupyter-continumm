{
 "cells": [
  {
   "cell_type": "code",
   "execution_count": 2,
   "metadata": {},
   "outputs": [],
   "source": [
    "#!/usr/bin/env python\n",
    "#\n",
    "# Resource- and Workload-Managers should be run first:\n",
    "#   bin/radical-dreamer-start-manager resource [--cfg_path config_data.json]\n",
    "#   bin/radical-dreamer-start-manager workload [--cfg_path config_data.json]\n",
    "#\n",
    "# Config \"cfg_default\" is used as an example and should be overwritten by user\n",
    "# (should be consistent with managers - to use ONLY one configuration) to\n",
    "# fulfill user's requirements (or JSON config should be used instead). If user\n",
    "# is satisfied with default config values (from \"cfg_default\") then only\n",
    "# RabbitMQ URL should be changed or set by the environment variable:\n",
    "#\n",
    "#   export RADICAL_DREAMER_RMQ_URL=\"amqp://localhost:5672/\"\n",
    "#\n",
    "# NOTE: In case env variable is used then it should be set for every executable\n",
    "#       (it has the highest priority over other URL definitions)\n",
    "#\n",
    "\n",
    "__author__ = 'RADICAL Team'\n",
    "__email__ = 'radical@rutgers.edu'\n",
    "__copyright__ = 'Copyright 2020, RADICAL Research, Rutgers University'\n",
    "__license__ = 'MIT'"
   ]
  },
  {
   "cell_type": "code",
   "execution_count": 3,
   "metadata": {},
   "outputs": [],
   "source": [
    "# import os\n",
    "# os.environ['RADICAL_DREAMER_RMQ_URL'] = 'amqp://localhost:5672/'\n",
    "\n",
    "from radical.dreamer import Session, Resource, Workload\n",
    "from radical.dreamer.configs import cfg_default\n",
    "import sys"
   ]
  },
  {
   "cell_type": "code",
   "execution_count": 5,
   "metadata": {},
   "outputs": [],
   "source": [
    "num_of_cores=1\n",
    "num_of_data_points=32\n",
    "num_of_clusters = 25\n",
    "\n",
    "ops_per_task = num_of_data_points * num_of_clusters\n",
    "\n",
    "ops_per_sec_cloudlet = 100\n",
    "#ops_per_sec_cloud = \n",
    "#ops_per_sec_edge = "
   ]
  },
  {
   "cell_type": "code",
   "execution_count": null,
   "metadata": {},
   "outputs": [],
   "source": [
    "if __name__ == '__main__':\n",
    "    # Create a Resource with a specific number of cores,\n",
    "    # with performance of each core drawn from a distribution\n",
    "    #resource = MultiResource(resources=[{'num_cores': 20,\n",
    "     #                                'perf_dist': {'name': 'uniform',\n",
    "     #                                              'mean': 5}},\n",
    "      #                              {'num_cores': 5,\n",
    "       #                              'perf_dist': {'name': 'uniform',\n",
    "        #                                           'mean': 10.}}])\n",
    "    resource = Resource(num_cores=num_of_cores,\n",
    "                        perf_dist={'name': 'uniform',\n",
    "                                   'mean': ops_per_sec_cloudlet})\n",
    "    # Create a Workload with a specific number of tasks,\n",
    "    # with number of operations per task drawn from a distribution\n",
    "    workload = Workload(num_tasks=300,\n",
    "                        ops_dist={'name': 'uniform',\n",
    "                                  'mean': ops_per_task})\n",
    "\n",
    "    # Create a Session to publish descriptions of Resource and Workload to RMQ\n",
    "    #session = Session(cfg=cfg_default)\n",
    "    session = Session(cfg_path='./config_data.json')\n",
    "    session.set_resource(resource)\n",
    "    session.set_workload(workload)"
   ]
  }
 ],
 "metadata": {
  "kernelspec": {
   "display_name": "Python 3",
   "language": "python",
   "name": "python3"
  },
  "language_info": {
   "codemirror_mode": {
    "name": "ipython",
    "version": 3
   },
   "file_extension": ".py",
   "mimetype": "text/x-python",
   "name": "python",
   "nbconvert_exporter": "python",
   "pygments_lexer": "ipython3",
   "version": "3.7.7"
  }
 },
 "nbformat": 4,
 "nbformat_minor": 4
}
